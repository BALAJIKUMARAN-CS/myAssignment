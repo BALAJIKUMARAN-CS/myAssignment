{
  "cells": [
    {
      "cell_type": "markdown",
      "metadata": {
        "id": "view-in-github",
        "colab_type": "text"
      },
      "source": [
        "<a href=\"https://colab.research.google.com/github/BALAJIKUMARAN-CS/myAssignment/blob/main/assignment3Ans.ipynb\" target=\"_parent\"><img src=\"https://colab.research.google.com/assets/colab-badge.svg\" alt=\"Open In Colab\"/></a>"
      ]
    },
    {
      "cell_type": "markdown",
      "metadata": {
        "id": "79-u7Koab-u3"
      },
      "source": [
        "#Assignment 3 Solutions"
      ]
    },
    {
      "cell_type": "markdown",
      "metadata": {
        "id": "69vuneiyb-u4"
      },
      "source": [
        "#1. Why are functions advantageous to have in your programs?\n",
        "\n",
        "    * Functions reduce the need for duplicate code.\n",
        "    \n",
        "    * It makes your code shorter, easier to read, and easier to update.\n",
        "    \n",
        "    * The main advantage of functions is code Reusability."
      ]
    },
    {
      "cell_type": "markdown",
      "metadata": {
        "id": "c8jA5nEab-u5"
      },
      "source": [
        "#2. When does the code in a function run: when it's specified or when it's called?\n",
        "\n",
        "    The code in the function will run only when it is called."
      ]
    },
    {
      "cell_type": "markdown",
      "source": [
        "#3. What statement creates a function?\n",
        "\n",
        "    The \"def\" statement defines a function  \n",
        "\n",
        "    Syntax of Function:\n",
        "    -------------------\n",
        "\n",
        "    def functionName():\n",
        "        # What to make the function do\n",
        "\n",
        "      \n",
        "    To call this function, write the name of the function followed by parentheses:\n",
        "\n",
        "    functionName():"
      ],
      "metadata": {
        "id": "MatUQrUadmTk"
      }
    },
    {
      "cell_type": "markdown",
      "metadata": {
        "id": "t1nUD8ZVb-u5"
      },
      "source": [
        "#4. What is the difference between a function and a function call?\n",
        "\n",
        "    Function:\n",
        "    ----------\n",
        "\n",
        "      * A function is a piece of code which enhanced the reusability and modularity of your program.\n",
        "    \n",
        "      * It means that piece of code need not be written again.\n",
        "    \n",
        "    Function Call:\n",
        "    --------------\n",
        "\n",
        "      * A function call means invoking or calling that function.\n",
        "      \n",
        "      * Unless a function is called there is no use of that function."
      ]
    },
    {
      "cell_type": "markdown",
      "metadata": {
        "id": "9Nmsq3X8b-u5"
      },
      "source": [
        "#5. How many global scopes are there in a Python program? How many local scopes?\n",
        "    \n",
        "    * There is one global scope, and a local scope is created whenever a function is called.\n",
        "    \n",
        "    * A variable created inside a function belongs to the local scope of that function, and can only be used inside that function.\n",
        "    \n",
        "    * A variable created in the main body of the Python code is a global variable and belongs to the global scope."
      ]
    },
    {
      "cell_type": "code",
      "source": [
        "#Example of Local Scope\n",
        "\n",
        "def anime():\n",
        "  x = \"naruto\"\n",
        "  print(x)\n",
        "\n",
        "anime()"
      ],
      "metadata": {
        "colab": {
          "base_uri": "https://localhost:8080/"
        },
        "id": "LNJLlU0hfdSg",
        "outputId": "d51f67e7-4e0b-4491-dc59-2c9e17c32851"
      },
      "execution_count": 13,
      "outputs": [
        {
          "output_type": "stream",
          "name": "stdout",
          "text": [
            "naruto\n"
          ]
        }
      ]
    },
    {
      "cell_type": "code",
      "source": [
        "#Example of Global Scope\n",
        "\n",
        "x = \"hinata\"\n",
        "\n",
        "def femaleChar():\n",
        "  print(f\"Im inside the function. I can able to access x and the value of x is {x}\\n\")\n",
        "\n",
        "femaleChar()\n",
        "\n",
        "print(f\"Im outside the function. I can able to access x and the value of x is {x}\")"
      ],
      "metadata": {
        "colab": {
          "base_uri": "https://localhost:8080/"
        },
        "id": "j4UARBcpfwas",
        "outputId": "bebb21ec-9637-414a-f9e6-d770c3ee3cdb"
      },
      "execution_count": 14,
      "outputs": [
        {
          "output_type": "stream",
          "name": "stdout",
          "text": [
            "Im inside the function. I can able to access x and the value of x is hinata\n",
            "\n",
            "Im outside the function. I can able to access x and the value of x is hinata\n"
          ]
        }
      ]
    },
    {
      "cell_type": "markdown",
      "metadata": {
        "id": "TAA9PV7lb-u6"
      },
      "source": [
        "#6. What happens to variables in a local scope when the function call returns?\n",
        "\n",
        "    * When a function returns, the local scope is destroyed, and all the variables in it are forgotten.\n",
        "    \n",
        "    * A local variable becomes undefined after the function call completes\n"
      ]
    },
    {
      "cell_type": "markdown",
      "metadata": {
        "id": "uIRY5VNtb-u6"
      },
      "source": [
        "#7. What is the concept of a return value? Is it possible to have a return value in an expression?\n",
        "\n",
        "    * The Python return statement is a key component of functions and methods.\n",
        "    \n",
        "    * We can use the return statement to make functions send Python objects back to the caller code.\n",
        "    \n",
        "    * These objects are known as the function’s return value.\n",
        "    \n",
        "    * A return value is the value that a function call evaluates to.\n",
        "    \n",
        "    * Like any value, a return value can be used as part of an expression.\n"
      ]
    },
    {
      "cell_type": "markdown",
      "metadata": {
        "id": "TyI8qTiFb-u6"
      },
      "source": [
        "#8. If a function does not have a return statement, what is the return value of a call to that function?\n",
        "\n",
        "    If there is no return statement for a function, its return value is `None`."
      ]
    },
    {
      "cell_type": "markdown",
      "metadata": {
        "id": "Y2IeBsXHb-u6"
      },
      "source": [
        "#9. How do you make a function variable refer to the global variable?\n",
        "\n",
        "    * A global statement will force a variable in a function to refer to the global variable.\n",
        "  \n",
        "    * If you want to refer to a global variable in a function, you can use the 'global' keyword to declare which variables are global."
      ]
    },
    {
      "cell_type": "markdown",
      "metadata": {
        "id": "AN0wbHKEb-u6"
      },
      "source": [
        "#10. What is the data type of None?\n",
        "\n",
        "    The data type of None is `NoneType`."
      ]
    },
    {
      "cell_type": "code",
      "source": [
        "#Eg:\n",
        "\n",
        "a=None\n",
        "type(a)"
      ],
      "metadata": {
        "colab": {
          "base_uri": "https://localhost:8080/"
        },
        "id": "vwJC4Je2hU6D",
        "outputId": "55ef8cab-e7d0-4ca0-be94-e9d493d15899"
      },
      "execution_count": 15,
      "outputs": [
        {
          "output_type": "execute_result",
          "data": {
            "text/plain": [
              "NoneType"
            ]
          },
          "metadata": {},
          "execution_count": 15
        }
      ]
    },
    {
      "cell_type": "markdown",
      "metadata": {
        "id": "_KgAkzXfb-u6"
      },
      "source": [
        "#11. What does the sentence import areallyourpetsnamederic do?\n",
        "\n",
        "    That import statement imports a module named areallyourpetsnamederic."
      ]
    },
    {
      "cell_type": "markdown",
      "metadata": {
        "id": "iv20Yetlb-u6"
      },
      "source": [
        "#12. If you had a bacon() feature in a spam module, what would you call it after importing spam?\n",
        "\n",
        "    This function can be called with `spam.bacon()`."
      ]
    },
    {
      "cell_type": "markdown",
      "metadata": {
        "id": "J7ddaZkdb-u6"
      },
      "source": [
        "#13. What can you do to save a programme from crashing if it encounters an error?\n",
        "\n",
        "    Place the line of code that might cause an error in a 'try' block and use 'except' block to handle the error."
      ]
    },
    {
      "cell_type": "code",
      "source": [
        "#Example:\n",
        "\n",
        "try:\n",
        "  print(unknown)\n",
        "except:\n",
        "  print(\"An exception occurred\")"
      ],
      "metadata": {
        "colab": {
          "base_uri": "https://localhost:8080/"
        },
        "id": "2qHKgFv7iPYr",
        "outputId": "308a5ae3-41c7-4143-b101-039dab59bee0"
      },
      "execution_count": 6,
      "outputs": [
        {
          "output_type": "stream",
          "name": "stdout",
          "text": [
            "An exception occurred\n"
          ]
        }
      ]
    },
    {
      "cell_type": "markdown",
      "metadata": {
        "id": "ZrlslK36b-u6"
      },
      "source": [
        "#14. What is the purpose of the try clause? What is the purpose of the except clause?\n",
        "  \n",
        "    * The try block lets you test a block of code for errors.\n",
        "\n",
        "    * The except block lets you handle the error."
      ]
    },
    {
      "cell_type": "code",
      "source": [
        "#The below program crashes without try and except: Because the name is not defined.\n",
        "\n",
        "print(unknown)"
      ],
      "metadata": {
        "colab": {
          "base_uri": "https://localhost:8080/",
          "height": 200
        },
        "id": "OpP8DMeJi3tw",
        "outputId": "bd4d3bfa-9f26-47ec-8d0e-b487aa9146fb"
      },
      "execution_count": 8,
      "outputs": [
        {
          "output_type": "error",
          "ename": "NameError",
          "evalue": "ignored",
          "traceback": [
            "\u001b[0;31m---------------------------------------------------------------------------\u001b[0m",
            "\u001b[0;31mNameError\u001b[0m                                 Traceback (most recent call last)",
            "\u001b[0;32m<ipython-input-8-967c2d1669cb>\u001b[0m in \u001b[0;36m<cell line: 3>\u001b[0;34m()\u001b[0m\n\u001b[1;32m      1\u001b[0m \u001b[0;31m#The below program crashes without try and except: Because the name is not defined.\u001b[0m\u001b[0;34m\u001b[0m\u001b[0;34m\u001b[0m\u001b[0m\n\u001b[1;32m      2\u001b[0m \u001b[0;34m\u001b[0m\u001b[0m\n\u001b[0;32m----> 3\u001b[0;31m \u001b[0mprint\u001b[0m\u001b[0;34m(\u001b[0m\u001b[0munknown\u001b[0m\u001b[0;34m)\u001b[0m\u001b[0;34m\u001b[0m\u001b[0;34m\u001b[0m\u001b[0m\n\u001b[0m",
            "\u001b[0;31mNameError\u001b[0m: name 'unknown' is not defined"
          ]
        }
      ]
    },
    {
      "cell_type": "code",
      "source": [
        "#Example: The same code works fine without crashing with the help of try and except\n",
        "\n",
        "try:\n",
        "  print(unknown)\n",
        "except:\n",
        "  print(\"An exception occurred\")"
      ],
      "metadata": {
        "colab": {
          "base_uri": "https://localhost:8080/"
        },
        "id": "XEmveAUQiq2O",
        "outputId": "4c6c9e71-bb46-4e53-8d87-e277fd9bcb50"
      },
      "execution_count": 10,
      "outputs": [
        {
          "output_type": "stream",
          "name": "stdout",
          "text": [
            "An exception occurred\n"
          ]
        }
      ]
    }
  ],
  "metadata": {
    "kernelspec": {
      "display_name": "Python 3",
      "language": "python",
      "name": "python3"
    },
    "language_info": {
      "codemirror_mode": {
        "name": "ipython",
        "version": 3
      },
      "file_extension": ".py",
      "mimetype": "text/x-python",
      "name": "python",
      "nbconvert_exporter": "python",
      "pygments_lexer": "ipython3",
      "version": "3.8.8"
    },
    "colab": {
      "provenance": [],
      "include_colab_link": true
    }
  },
  "nbformat": 4,
  "nbformat_minor": 0
}
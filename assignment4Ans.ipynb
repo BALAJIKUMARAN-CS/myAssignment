{
  "nbformat": 4,
  "nbformat_minor": 0,
  "metadata": {
    "colab": {
      "provenance": [],
      "authorship_tag": "ABX9TyOgaDRI1uBVuS7bF0BIjON5",
      "include_colab_link": true
    },
    "kernelspec": {
      "name": "python3",
      "display_name": "Python 3"
    },
    "language_info": {
      "name": "python"
    }
  },
  "cells": [
    {
      "cell_type": "markdown",
      "metadata": {
        "id": "view-in-github",
        "colab_type": "text"
      },
      "source": [
        "<a href=\"https://colab.research.google.com/github/BALAJIKUMARAN-CS/myAssignment/blob/main/assignment4Ans.ipynb\" target=\"_parent\"><img src=\"https://colab.research.google.com/assets/colab-badge.svg\" alt=\"Open In Colab\"/></a>"
      ]
    },
    {
      "cell_type": "markdown",
      "source": [
        "#Assignment 4 Answers:\n",
        "\n",
        "**SUBMITTED BY BALAJIKUMARAN CS**"
      ],
      "metadata": {
        "id": "LXVI7RRwuZ-3"
      }
    },
    {
      "cell_type": "markdown",
      "source": [
        "####1. What exactly is [ ]?\n",
        "\n",
        "    The empty list represented by [] is a list that contains no items."
      ],
      "metadata": {
        "id": "dmwMJXxtlJ6X"
      }
    },
    {
      "cell_type": "code",
      "execution_count": null,
      "metadata": {
        "colab": {
          "base_uri": "https://localhost:8080/"
        },
        "id": "QUU3DmZxlIEd",
        "outputId": "df21f40e-90a8-40aa-da83-3bf14a5a088e"
      },
      "outputs": [
        {
          "output_type": "stream",
          "name": "stdout",
          "text": [
            "The Values of a: []\n",
            "The Type of a: <class 'list'>\n",
            "The Size of a: 0\n"
          ]
        }
      ],
      "source": [
        "#Example:\n",
        "\n",
        "a = []\n",
        "\n",
        "print(f\"The Values of a: {a}\")\n",
        "print(f\"The Type of a: {type(a)}\")\n",
        "print(f\"The Size of a: {len(a)}\")"
      ]
    },
    {
      "cell_type": "markdown",
      "source": [
        "####2. In a list of values stored in a variable called spam, how would you assign the value 'hello' as the third value? (Assume [2, 4, 6, 8, 10] are in spam.)\n",
        "\n",
        "    * spam[2]='hello' (Note: Lists follows zero based indexing)\n",
        "\n",
        "    * If we use spam[2] = 'hello' means it replaces the old value 6"
      ],
      "metadata": {
        "id": "oDl5QzRtl5yA"
      }
    },
    {
      "cell_type": "code",
      "source": [
        "#Example:\n",
        "\n",
        "spam=[2,4,6,8,10]\n",
        "\n",
        "print(f\"The values of old list is : {spam}\\n\")\n",
        "\n",
        "print(f\"The third value of old list is : {spam[2]}\\n\")\n",
        "\n",
        "spam[2]='hello'\n",
        "\n",
        "print(f\"The values of new list is : {spam}\\n\")\n",
        "\n",
        "print(f\"The third value of new list is : {spam[2]}\\n\")"
      ],
      "metadata": {
        "colab": {
          "base_uri": "https://localhost:8080/"
        },
        "id": "7rOKCEJLmDhk",
        "outputId": "5da3cfb4-1472-452c-876a-8f1d00cbdb60"
      },
      "execution_count": null,
      "outputs": [
        {
          "output_type": "stream",
          "name": "stdout",
          "text": [
            "The values of old list is : [2, 4, 6, 8, 10]\n",
            "\n",
            "The third value of old list is : 6\n",
            "\n",
            "The values of new list is : [2, 4, 'hello', 8, 10]\n",
            "\n",
            "The third value of new list is : hello\n",
            "\n"
          ]
        }
      ]
    },
    {
      "cell_type": "markdown",
      "source": [
        "#Let's pretend the spam includes the list ['a','b','c',d'] for the next three queries."
      ],
      "metadata": {
        "id": "BZJh9WDwm-ra"
      }
    },
    {
      "cell_type": "markdown",
      "source": [
        "###3. What is the value of spam[int(int('3'*2)//11)] ?\n",
        "\n",
        "    The answer is 'd'\n",
        "    \n",
        "    Explanation:\n",
        "    -----------\n",
        "\n",
        "    * '3' * 2 is the string '33', which is passed to int() before being divided by 11.\n",
        "    * This eventually evaluates to 3, spam[3] is equal to d."
      ],
      "metadata": {
        "id": "5OZQYXYrn9PY"
      }
    },
    {
      "cell_type": "code",
      "source": [
        "#Example:\n",
        "\n",
        "spam = ['a','b','c','d']\n",
        "\n",
        "print(spam[int(int('3'*2)//11)])"
      ],
      "metadata": {
        "colab": {
          "base_uri": "https://localhost:8080/"
        },
        "id": "CvUkqLJ2m-WF",
        "outputId": "450773f2-f7ab-4a86-a182-7e7c49d18f88"
      },
      "execution_count": null,
      "outputs": [
        {
          "output_type": "stream",
          "name": "stdout",
          "text": [
            "d\n"
          ]
        }
      ]
    },
    {
      "cell_type": "markdown",
      "source": [
        "####4. What is the value of spam[-1]?\n",
        "\n",
        "    The answer is 'd'\n",
        "    \n",
        "    Explanation:\n",
        "    -----------\n",
        "\n",
        "    * Lists support Negative indexing, Hence spam[-1] returs 'd').\n",
        "    \n",
        "    * -1 index returns last item of the list."
      ],
      "metadata": {
        "id": "s0uq5G9vo254"
      }
    },
    {
      "cell_type": "code",
      "source": [
        "#Example:\n",
        "\n",
        "spam = ['a','b','c','d']\n",
        "\n",
        "print(spam[-1])"
      ],
      "metadata": {
        "colab": {
          "base_uri": "https://localhost:8080/"
        },
        "id": "QNtez-uMpCAW",
        "outputId": "c5aaf8c0-a19e-4b30-ae7b-c49451e6bdb7"
      },
      "execution_count": null,
      "outputs": [
        {
          "output_type": "stream",
          "name": "stdout",
          "text": [
            "d\n"
          ]
        }
      ]
    },
    {
      "cell_type": "markdown",
      "source": [
        "###5. What is the value of spam[:2]?\n",
        "\n",
        "    The answer of spam[:2] is ['a', 'b']\n",
        "\n",
        "    Explanation:\n",
        "    -----------\n",
        "\n",
        "    * If we did not declare starting index means it will consider 0\n",
        "\n",
        "    * The end index is 2, so spam[:2] returns all elements in the list spam from 0 to 2 excluding 2"
      ],
      "metadata": {
        "id": "FZdl8WVgpOzF"
      }
    },
    {
      "cell_type": "code",
      "source": [
        "#Example:\n",
        "\n",
        "spam = ['a','b','c','d']\n",
        "print(spam[:2])"
      ],
      "metadata": {
        "colab": {
          "base_uri": "https://localhost:8080/"
        },
        "id": "hudPO4VJpVYF",
        "outputId": "002b70f0-9142-4e31-c8b0-58a4bdb35a70"
      },
      "execution_count": null,
      "outputs": [
        {
          "output_type": "stream",
          "name": "stdout",
          "text": [
            "['a', 'b']\n"
          ]
        }
      ]
    },
    {
      "cell_type": "markdown",
      "source": [
        "#Let's pretend bacon has the list [3.14,'cat',11,'cat',True] for the next three question"
      ],
      "metadata": {
        "id": "-T3vJYD5qjWy"
      }
    },
    {
      "cell_type": "markdown",
      "source": [
        "####6. What is the value of bacon.index('cat')?\n",
        "\n",
        "    The value of bacon.index('cat') is 1\n",
        "    \n",
        "    Explanation:\n",
        "    ------------\n",
        "    \n",
        "    Index method returns the index of first occuerence of 'cat'"
      ],
      "metadata": {
        "id": "Gd47o1a8qq6g"
      }
    },
    {
      "cell_type": "code",
      "source": [
        "#Example:\n",
        "\n",
        "bacon=[3.14,'cat',11,'cat',True]\n",
        "\n",
        "print(bacon.index('cat'))"
      ],
      "metadata": {
        "colab": {
          "base_uri": "https://localhost:8080/"
        },
        "id": "5SByhkK_rFWO",
        "outputId": "013854f0-0d3d-43b5-f8ea-a43544050e52"
      },
      "execution_count": null,
      "outputs": [
        {
          "output_type": "stream",
          "name": "stdout",
          "text": [
            "1\n"
          ]
        }
      ]
    },
    {
      "cell_type": "markdown",
      "source": [
        "#####7. How does bacon.append(99) change the look of the list value in bacon?\n",
        "\n",
        "    The append method adds new elements to the end of the list"
      ],
      "metadata": {
        "id": "NgaD7wTNrTvv"
      }
    },
    {
      "cell_type": "code",
      "source": [
        "#Example:\n",
        "\n",
        "bacon=[3.14,'cat',11,'cat',True]\n",
        "\n",
        "print(f\"The old list is : {bacon}\\n\")\n",
        "\n",
        "bacon.append(99) # appends 99 to the end of the list\n",
        "print(f\"The new list is : {bacon}\\n\")"
      ],
      "metadata": {
        "colab": {
          "base_uri": "https://localhost:8080/"
        },
        "id": "q5T7X6FyrTcN",
        "outputId": "67bbdd86-3b6b-472a-d5e2-ca250d0fb25f"
      },
      "execution_count": null,
      "outputs": [
        {
          "output_type": "stream",
          "name": "stdout",
          "text": [
            "The old list is : [3.14, 'cat', 11, 'cat', True]\n",
            "\n",
            "The new list is : [3.14, 'cat', 11, 'cat', True, 99]\n",
            "\n"
          ]
        }
      ]
    },
    {
      "cell_type": "markdown",
      "source": [
        "###8. How does bacon.remove('cat') change the look of the list in bacon?\n",
        "\n",
        "    The remove method removes the first occurence of the element in the list"
      ],
      "metadata": {
        "id": "SWtzbVnuxOOb"
      }
    },
    {
      "cell_type": "code",
      "source": [
        "#Example:\n",
        "\n",
        "print(f\"The list is : {bacon}\\n\")\n",
        "\n",
        "bacon.remove('cat')\n",
        "\n",
        "print(f\"The updated list is : {bacon}\\n\")"
      ],
      "metadata": {
        "colab": {
          "base_uri": "https://localhost:8080/"
        },
        "id": "lfrdHjboxScK",
        "outputId": "6efa803a-d2ed-4c2e-bf75-57ad81bb835e"
      },
      "execution_count": null,
      "outputs": [
        {
          "output_type": "stream",
          "name": "stdout",
          "text": [
            "The list is : [3.14, 'cat', 11, 'cat', True, 99]\n",
            "\n",
            "The updated list is : [3.14, 11, 'cat', True, 99]\n",
            "\n"
          ]
        }
      ]
    },
    {
      "cell_type": "markdown",
      "source": [
        "###9. what are the list concatenation and list replication operations?\n",
        "\n",
        "    * The operator for list concatenation is +\n",
        "    \n",
        "    * while the operator for replication is *"
      ],
      "metadata": {
        "id": "G7cqoxjUxsVv"
      }
    },
    {
      "cell_type": "code",
      "source": [
        "list1 = [1,2]\n",
        "\n",
        "list2= [3,4]\n",
        "\n",
        "#Concatenation --> concatinates both the list in a single list\n",
        "\n",
        "print(f\"The concatenation of {list1} and {list2} is {list1+list2}\\n\")\n",
        "\n",
        "#Replication --> it replicates the exact copy (n times) in a single list\n",
        "\n",
        "print(f\"The replication of {list1} x 2 is {list1 *2}\")"
      ],
      "metadata": {
        "colab": {
          "base_uri": "https://localhost:8080/"
        },
        "id": "-xalsLdvyEPB",
        "outputId": "0ed3c0bc-62b1-4e0b-b658-b3e048d0ba49"
      },
      "execution_count": null,
      "outputs": [
        {
          "output_type": "stream",
          "name": "stdout",
          "text": [
            "The concatenation of [1, 2] and [3, 4] is [1, 2, 3, 4]\n",
            "\n",
            "The replication of [1, 2] x 2 is [1, 2, 1, 2]\n"
          ]
        }
      ]
    },
    {
      "cell_type": "markdown",
      "source": [
        "###10. what is the difference between the list method append() and insert()?\n",
        "\n",
        "    append()\n",
        "    --------\n",
        "\n",
        "    It will add values only to the end of a list\n",
        "    \n",
        "    insert()\n",
        "    --------\n",
        "    \n",
        "    It can add them anywhere in the list with the help of index value"
      ],
      "metadata": {
        "id": "IK4zTnMPzEgX"
      }
    },
    {
      "cell_type": "code",
      "source": [
        "comic = [\"naruto\",'minato','kabuto']\n",
        "\n",
        "print(f\"The old list ----> {comic}\\n\")\n",
        "\n",
        "#Example of Append\n",
        "\n",
        "comic.append(\"hinata\")\n",
        "\n",
        "print(f\"The list after append 'hinata' ----> {comic}\\n\")\n",
        "\n",
        "#Example of insert\n",
        "\n",
        "comic.insert(0,\"jiraya\")\n",
        "\n",
        "print(f\"The list after insert 'jiraya' in '0 th ' position----> {comic}\")"
      ],
      "metadata": {
        "colab": {
          "base_uri": "https://localhost:8080/"
        },
        "id": "LCS197b3z1tx",
        "outputId": "5ef7c8da-37c0-4236-8e4f-1264e81de2df"
      },
      "execution_count": null,
      "outputs": [
        {
          "output_type": "stream",
          "name": "stdout",
          "text": [
            "The old list ----> ['naruto', 'minato', 'kabuto']\n",
            "\n",
            "The list after append 'hinata' ----> ['naruto', 'minato', 'kabuto', 'hinata']\n",
            "\n",
            "The list after insert 'jiraya' in '0 th ' position----> ['jiraya', 'naruto', 'minato', 'kabuto', 'hinata']\n"
          ]
        }
      ]
    },
    {
      "cell_type": "markdown",
      "source": [
        "####11. What are the two methods for removing items from a list?\n",
        "\n",
        "    The del statement and the remove() method are two ways to remove values from a list\n",
        "\n",
        "del:\n",
        "   \n",
        "    Syntax:\n",
        "    -------\n",
        "\n",
        "    del list_name[index]  # To delete single value\n",
        "    del list_name        # To delete whole list\n",
        "\n",
        "remove() Method:\n",
        "\n",
        "    Syntax:\n",
        "    -------\n",
        "\n",
        "    list_name.remove(value)"
      ],
      "metadata": {
        "id": "q5njT6_n1iOA"
      }
    },
    {
      "cell_type": "code",
      "source": [
        "#Example of del:\n",
        "\n",
        "newList = [\"naruto\",'minato','kabuto']\n",
        "\n",
        "del newList[1]\n",
        "\n",
        "print(f\"The list after 'del[1]' : {newList}\")\n"
      ],
      "metadata": {
        "colab": {
          "base_uri": "https://localhost:8080/"
        },
        "id": "4t3j7QH32nNk",
        "outputId": "54865eb5-412e-471b-e129-aedfa8bd7e26"
      },
      "execution_count": null,
      "outputs": [
        {
          "output_type": "stream",
          "name": "stdout",
          "text": [
            "The list after 'del[1]' : ['naruto', 'kabuto']\n"
          ]
        }
      ]
    },
    {
      "cell_type": "code",
      "source": [
        "#Example of remove:\n",
        "\n",
        "newList = [\"naruto\",'minato','kabuto']\n",
        "\n",
        "newList.remove(\"naruto\")\n",
        "\n",
        "print(f\"The list after remove('naruto') : {newList}\")"
      ],
      "metadata": {
        "colab": {
          "base_uri": "https://localhost:8080/"
        },
        "id": "tmh1cpk438AN",
        "outputId": "7527fa96-7332-434a-c091-69b69da4bb46"
      },
      "execution_count": null,
      "outputs": [
        {
          "output_type": "stream",
          "name": "stdout",
          "text": [
            "The list after remove('naruto') : ['minato', 'kabuto']\n"
          ]
        }
      ]
    },
    {
      "cell_type": "markdown",
      "source": [
        "###12. Describe how list values and string values are identical.\n",
        "\n",
        "    Below are some reasons how list values and string values are identical:\n",
        "\n",
        "    * Both lists and strings can be passed to len() function\n",
        "\n",
        "    * Have indexes and slices, used in for loops,\n",
        "    \n",
        "    * Can be concatenated or replicated\n",
        "    \n",
        "    * Can be used with the 'in' and 'not in' operators."
      ],
      "metadata": {
        "id": "zA7wRV4Q4wsc"
      }
    },
    {
      "cell_type": "markdown",
      "source": [
        "###13. What's the difference between tuples and lists?\n",
        "\n",
        "    List:\n",
        "    -----\n",
        "\n",
        "    * Lists are Mutable, Indexable and Slicable.\n",
        "\n",
        "    * We can add, remove, change the values in a list.\n",
        "\n",
        "    * lists use the square brackets [].\n",
        "    \n",
        "    Tuples:\n",
        "    -------\n",
        "\n",
        "    * Tuples are Immutable but Indexable and Slicable.\n",
        "    \n",
        "    * The tuple values cannot be changed at all.\n",
        "    \n",
        "    * Tuples are represented using parentheses ()."
      ],
      "metadata": {
        "id": "CIQbqXRW5sb0"
      }
    },
    {
      "cell_type": "code",
      "source": [
        "#Example:\n",
        "\n",
        "list_num = [1,2,3,4]\n",
        "\n",
        "tup_num = (1,2,3,4)\n",
        "\n",
        "print(f\"The type of list_num is {type(list_num)}\\n\")\n",
        "\n",
        "print(f\"The type of tuple_num is {type(tup_num)}\")"
      ],
      "metadata": {
        "colab": {
          "base_uri": "https://localhost:8080/"
        },
        "id": "_OdaxLcE6gxl",
        "outputId": "32a5a9c0-94ae-4a83-9e59-06945e3db5f3"
      },
      "execution_count": null,
      "outputs": [
        {
          "output_type": "stream",
          "name": "stdout",
          "text": [
            "The type of list_num is <class 'list'>\n",
            "\n",
            "The type of tuple_num is <class 'tuple'>\n"
          ]
        }
      ]
    },
    {
      "cell_type": "markdown",
      "source": [
        "###14. How do you type a tuple value that only contains the integer 42?\n",
        "\n",
        "    The answer is --> (42,)\n",
        "\n",
        "    Explanation:\n",
        "    -----------\n",
        "\n",
        "    The trailing comma is mandatory. Otherwise its considered as a int by python Interpreter"
      ],
      "metadata": {
        "id": "v3b_vKV67JB3"
      }
    },
    {
      "cell_type": "code",
      "source": [
        "#Example:\n",
        "\n",
        "sample1=(42)\n",
        "\n",
        "sample2=(42,)\n",
        "\n",
        "print(f\"The type of (42) is {type(sample1)}\\n\")\n",
        "\n",
        "print(f\"The type of (42, ) is {type(sample2)}\")\n"
      ],
      "metadata": {
        "colab": {
          "base_uri": "https://localhost:8080/"
        },
        "id": "WtbmILWw7ifY",
        "outputId": "fa7b3be8-3164-4e40-afff-2b44e77c82fe"
      },
      "execution_count": null,
      "outputs": [
        {
          "output_type": "stream",
          "name": "stdout",
          "text": [
            "The type of (42) is <class 'int'>\n",
            "\n",
            "The type of (42, ) is <class 'tuple'>\n"
          ]
        }
      ]
    },
    {
      "cell_type": "markdown",
      "source": [
        "####15. How do you get a list value's tuple form? How do you get a tuple value's list form?\n",
        "\n",
        "    The tuple() and list() functions, respectively are used to convert a list to tuple and vice versa"
      ],
      "metadata": {
        "id": "wowsd0B98Rd4"
      }
    },
    {
      "cell_type": "code",
      "source": [
        "sampleList = [1,2,3,4]\n",
        "\n",
        "sampleTuple = (5,6,7,8)\n",
        "\n",
        "print(f\"The list {sampleList} is converted to {tuple(sampleList)}\\n\") # It converts list into tuple form\n",
        "\n",
        "print(f\"The tuple {sampleTuple} is converted to {list(sampleTuple)}\\n\") # It converts tuple into list form"
      ],
      "metadata": {
        "colab": {
          "base_uri": "https://localhost:8080/"
        },
        "id": "tjGrfA6Y8VpY",
        "outputId": "ba6467cc-6312-4625-9394-994e33880c20"
      },
      "execution_count": null,
      "outputs": [
        {
          "output_type": "stream",
          "name": "stdout",
          "text": [
            "The list [1, 2, 3, 4] is converted to (1, 2, 3, 4)\n",
            "\n",
            "The tuple (5, 6, 7, 8) is converted to [5, 6, 7, 8]\n",
            "\n"
          ]
        }
      ]
    },
    {
      "cell_type": "markdown",
      "source": [
        "###16. Variables that \"contain\" list values are not necessarily lists themselves. Instead, what do they contain?\n",
        "\n",
        "    They contain references to list values."
      ],
      "metadata": {
        "id": "hr6wcskC9bU8"
      }
    },
    {
      "cell_type": "markdown",
      "source": [
        "####17. How do you distinguish between copy.copy() and copy.deepcopy()?\n",
        "\n",
        "    copy():\n",
        "    ------\n",
        "\n",
        "    * The copy.copy() function will do a shallow copy of a list\n",
        "\n",
        "    * A shallow copy creates a new compound object and then references the objects contained in the original within it, which means it constructs a new collection object and then populates it with references to the child objects found in the original.\n",
        "    \n",
        "    * The copying process does not recurse and therefore won’t create copies of the child objects themselves.\n",
        "    \n",
        "    * In the case of shallow copy, a reference of an object is copied into another object.\n",
        "    \n",
        "    * It means that any changes made to a copy of an object do reflect in the original object.\n",
        "    \n",
        "    In python, this is implemented using the “copy()” function.\n",
        "\n",
        "    \n",
        "    * Syntax:\n",
        "    \n",
        "        list2=copy.copy(list1)\n",
        "\n",
        "       \n",
        "    \n",
        "    deepcopy():\n",
        "    -----------\n",
        "\n",
        "    * copy.deepcopy() function will do a deep copy of a list.\n",
        "\n",
        "    * A deep copy creates a new compound object before inserting copies of the items found in the original into it in a recursive manner.\n",
        "    \n",
        "    * It means first constructing a new collection object and then recursively populating it with copies of the child objects found in the original.\n",
        "\n",
        "    * In the case of deep copy, a copy of the object is copied into another object.\n",
        "    \n",
        "    * It means that any changes made to a copy of the object do not reflect in the original object.\n",
        "\n",
        "    * Syntax:\n",
        "    \n",
        "        list2=copy.deepcopy(list1)\n",
        "\n"
      ],
      "metadata": {
        "id": "Vh5N6WhJ9sCq"
      }
    },
    {
      "cell_type": "code",
      "source": [
        "#Example of ShallowCopy:\n",
        "\n",
        "import copy\n",
        "\n",
        "old_list = [[1, 1, 1], [2, 2, 2], [3, 3, 3]]\n",
        "new_list = copy.copy(old_list)\n",
        "\n",
        "old_list[1][1] = 'TEST'\n",
        "\n",
        "print(\"Old list:\", old_list)\n",
        "print(\"New list:\", new_list)"
      ],
      "metadata": {
        "colab": {
          "base_uri": "https://localhost:8080/"
        },
        "id": "chnoyI5y_Py_",
        "outputId": "d315fd66-6a3c-46a3-e5d1-c42106a927f4"
      },
      "execution_count": null,
      "outputs": [
        {
          "output_type": "stream",
          "name": "stdout",
          "text": [
            "Old list: [[1, 1, 1], [2, 'TEST', 2], [3, 3, 3]]\n",
            "New list: [[1, 1, 1], [2, 'TEST', 2], [3, 3, 3]]\n"
          ]
        }
      ]
    },
    {
      "cell_type": "code",
      "source": [
        "#Example of DeepCopy:\n",
        "\n",
        "import copy\n",
        "\n",
        "old_list = [[1, 1, 1], [2, 2, 2], [3, 3, 3]]\n",
        "new_list = copy.deepcopy(old_list)\n",
        "\n",
        "old_list[1][0] = 'REST'\n",
        "\n",
        "print(\"Old list:\", old_list)\n",
        "print(\"New list:\", new_list)"
      ],
      "metadata": {
        "colab": {
          "base_uri": "https://localhost:8080/"
        },
        "id": "Y9632ptV9qU3",
        "outputId": "781b11f5-aea4-4417-eed7-53ed06929110"
      },
      "execution_count": null,
      "outputs": [
        {
          "output_type": "stream",
          "name": "stdout",
          "text": [
            "Old list: [[1, 1, 1], ['REST', 2, 2], [3, 3, 3]]\n",
            "New list: [[1, 1, 1], [2, 2, 2], [3, 3, 3]]\n"
          ]
        }
      ]
    }
  ]
}
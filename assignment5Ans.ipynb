{
  "nbformat": 4,
  "nbformat_minor": 0,
  "metadata": {
    "colab": {
      "provenance": [],
      "authorship_tag": "ABX9TyPn70kvhoty23j/rPoFJUJR",
      "include_colab_link": true
    },
    "kernelspec": {
      "name": "python3",
      "display_name": "Python 3"
    },
    "language_info": {
      "name": "python"
    }
  },
  "cells": [
    {
      "cell_type": "markdown",
      "metadata": {
        "id": "view-in-github",
        "colab_type": "text"
      },
      "source": [
        "<a href=\"https://colab.research.google.com/github/BALAJIKUMARAN-CS/myAssignment/blob/main/assignment5Ans.ipynb\" target=\"_parent\"><img src=\"https://colab.research.google.com/assets/colab-badge.svg\" alt=\"Open In Colab\"/></a>"
      ]
    },
    {
      "cell_type": "markdown",
      "source": [
        "#Assignment 5 Answers:\n",
        "\n",
        "**SUBMITTED BY BALAJIKUMARAN CS**"
      ],
      "metadata": {
        "id": "jEmtGrljQlzU"
      }
    },
    {
      "cell_type": "markdown",
      "source": [
        "###1.What does an empty dictionary's code look like?\n",
        "\n",
        "    An empty dictionary is represented by two empty curly brackets  \n",
        "    \n",
        "    EG:\n",
        "    d = {}\n",
        "\n",
        "       (or)\n",
        "\n",
        "    d = dict()"
      ],
      "metadata": {
        "id": "UoIuuL4aRIXE"
      }
    },
    {
      "cell_type": "code",
      "source": [
        "#Example:\n",
        "\n",
        "emptyDict = {}\n",
        "\n",
        "\n",
        "print(f\"The values in emptyDict : {emptyDict}\")\n",
        "\n",
        "print(f\"The length of emptyDict : {len(emptyDict)}\")\n",
        "\n",
        "print(f\"The type of emptyDict {type(emptyDict)}\")"
      ],
      "metadata": {
        "colab": {
          "base_uri": "https://localhost:8080/"
        },
        "id": "Xb19YEq4QlXA",
        "outputId": "4c0eaa7b-41a9-4ea1-f527-5cca55876993"
      },
      "execution_count": null,
      "outputs": [
        {
          "output_type": "stream",
          "name": "stdout",
          "text": [
            "The values in emptyDict : {}\n",
            "The length of emptyDict : 0\n",
            "The type of emptyDict <class 'dict'>\n"
          ]
        }
      ]
    },
    {
      "cell_type": "markdown",
      "source": [
        "### 2.what is the value of dictionary value with key 'foo' and the value 42 ?\n",
        "\n",
        "    {'foo':42}\n",
        "\n",
        "    Here, the key is 'foo' and the value is 42"
      ],
      "metadata": {
        "id": "0hTBqFpTSCTd"
      }
    },
    {
      "cell_type": "code",
      "source": [
        "#Example:\n",
        "\n",
        "name={'foo':42}\n",
        "print(f\"The value of the dictionary is : {name.values()}\\n\")\n",
        "print(f\"The key of the dictionary is : {name.keys()}\")"
      ],
      "metadata": {
        "colab": {
          "base_uri": "https://localhost:8080/"
        },
        "id": "RkjyVfY0SCAe",
        "outputId": "ec6ccb6e-5a76-4b14-b55f-5e43f89a6375"
      },
      "execution_count": 21,
      "outputs": [
        {
          "output_type": "stream",
          "name": "stdout",
          "text": [
            "The value of the dictionary is : dict_values([42])\n",
            "\n",
            "The key of the dictionary is : dict_keys(['foo'])\n"
          ]
        }
      ]
    },
    {
      "cell_type": "markdown",
      "source": [
        "###3.What is the most significant distinction between a dictionary and a list?\n",
        "\n",
        "    Dictionaries:\n",
        "    -------------\n",
        "\n",
        "    * Dictionary refers to the hashed structure of various pairs like key-value pairs.\n",
        "\n",
        "    * Dictionary is created by placing elements in {}, data is added as key-value pair, and each pair is separated by ','.\n",
        "\n",
        "\n",
        "    * Dictionary items can be accessed by using key values. Key values can be of any data type.\n",
        "\n",
        "    * In a dictionary, the dictionary is unordered and mutable, but the dictionary doesn't allow duplicate values with the same key in it.\n",
        "\n",
        "    * It stores large amounts of data for easy and quick access.\n",
        "\n",
        "\n",
        "\n",
        "    Lists:\n",
        "    ------\n",
        "\n",
        "    * List refers to the collection of index value pair.\n",
        "\n",
        "    * List is initialized with [], and elements are separated by ','.\n",
        "\n",
        "    * List values can be accessed by numeric indexes.\n",
        "\n",
        "    * List is ordered, mutable, and allows duplicate values.\n",
        "\n",
        "    * Lists are used to store the data, which should be ordered and sequential.\n"
      ],
      "metadata": {
        "id": "irU3-AZL-y84"
      }
    },
    {
      "cell_type": "markdown",
      "source": [
        "###4.What happens if you try to access spam ['foo'] if spam is {'bar':100}?\n",
        "\n",
        "    We will get a 'keyError' if we are trying to access a key that doesn't exist\n",
        "    \n",
        "    KeyError: 'foo'"
      ],
      "metadata": {
        "id": "ID0QeBOeDBky"
      }
    },
    {
      "cell_type": "code",
      "source": [
        "spam={'bar':100}\n",
        "\n",
        "spam['foo']"
      ],
      "metadata": {
        "colab": {
          "base_uri": "https://localhost:8080/",
          "height": 200
        },
        "id": "LHyBaaI5DMc_",
        "outputId": "0c7421e8-0d3c-40cd-f275-619718f2f664"
      },
      "execution_count": null,
      "outputs": [
        {
          "output_type": "error",
          "ename": "KeyError",
          "evalue": "ignored",
          "traceback": [
            "\u001b[0;31m---------------------------------------------------------------------------\u001b[0m",
            "\u001b[0;31mKeyError\u001b[0m                                  Traceback (most recent call last)",
            "\u001b[0;32m<ipython-input-2-50c3bfb985cb>\u001b[0m in \u001b[0;36m<cell line: 3>\u001b[0;34m()\u001b[0m\n\u001b[1;32m      1\u001b[0m \u001b[0mspam\u001b[0m\u001b[0;34m=\u001b[0m\u001b[0;34m{\u001b[0m\u001b[0;34m'bar'\u001b[0m\u001b[0;34m:\u001b[0m\u001b[0;36m100\u001b[0m\u001b[0;34m}\u001b[0m\u001b[0;34m\u001b[0m\u001b[0;34m\u001b[0m\u001b[0m\n\u001b[1;32m      2\u001b[0m \u001b[0;34m\u001b[0m\u001b[0m\n\u001b[0;32m----> 3\u001b[0;31m \u001b[0mspam\u001b[0m\u001b[0;34m[\u001b[0m\u001b[0;34m'foo'\u001b[0m\u001b[0;34m]\u001b[0m\u001b[0;34m\u001b[0m\u001b[0;34m\u001b[0m\u001b[0m\n\u001b[0m",
            "\u001b[0;31mKeyError\u001b[0m: 'foo'"
          ]
        }
      ]
    },
    {
      "cell_type": "markdown",
      "source": [
        "###5.if a dictionary is stored in spam,what is the difference between the expressions 'cat' in spam and 'cat' in spam.keys()?\n",
        "\n",
        "    There is no difference . The operator checks whether a value exits as a key in the dictionary or not\n",
        "\n",
        "    * 'cat' in spam checks whether there is a 'cat' key in the dictionary\n",
        "    \n",
        "    * while 'cat' in spam.values() checks whether there is a value 'cat' for one of the keys in spam.\n",
        "\n",
        "    * Hence both will return True/False\n",
        "\n"
      ],
      "metadata": {
        "id": "C321ctlIOSe-"
      }
    },
    {
      "cell_type": "code",
      "source": [
        "#Example:\n",
        "\n",
        "testDict = {'cat':1}\n",
        "\n",
        "print('cat' in testDict)\n",
        "\n",
        "print('cat' in testDict.keys())"
      ],
      "metadata": {
        "colab": {
          "base_uri": "https://localhost:8080/"
        },
        "id": "fWGTVC3MqvmT",
        "outputId": "375fa3c1-adea-4c55-f7c4-25a90903a144"
      },
      "execution_count": 25,
      "outputs": [
        {
          "output_type": "stream",
          "name": "stdout",
          "text": [
            "True\n",
            "True\n"
          ]
        }
      ]
    },
    {
      "cell_type": "markdown",
      "source": [
        "###6.if a dictionary is stored in spam,what is the difference between the expressions 'cat' in spam and 'cat' in spam.values() ?\n",
        "\n",
        "    * 'cat' in spam checks whether there is a 'cat' key in the dictionary\n",
        "    \n",
        "    * 'cat' in spam.values() checks whether there is a value 'cat' for one of the keys in spam."
      ],
      "metadata": {
        "id": "u6K3nfEMOcn0"
      }
    },
    {
      "cell_type": "code",
      "source": [
        "#Example:\n",
        "\n",
        "testDict = {'cat':1}\n",
        "\n",
        "print('cat' in testDict)\n",
        "\n",
        "print('cat' in testDict.values())"
      ],
      "metadata": {
        "colab": {
          "base_uri": "https://localhost:8080/"
        },
        "id": "CA5L-QGPrf32",
        "outputId": "8c313d03-6d75-444c-d912-f80abcf28f29"
      },
      "execution_count": 26,
      "outputs": [
        {
          "output_type": "stream",
          "name": "stdout",
          "text": [
            "True\n",
            "False\n"
          ]
        }
      ]
    },
    {
      "cell_type": "markdown",
      "source": [
        "###7.what is a shortcut for the following code ?\n",
        "###if 'color' not in spam: spam['color'] ='black'\n",
        "\n",
        "    Answer:\n",
        "    -------\n",
        "    spam.setdefault('color','black')\n",
        "\n",
        "\n",
        "    Explanation:\n",
        "    -----------\n",
        "\n",
        "    The setdefault() method returns the value of the item with the specified key.\n",
        "\n",
        "    If the key does not exist, it insert the key, with the specified value.\n",
        "\n"
      ],
      "metadata": {
        "id": "jPL1DeaGOi1g"
      }
    },
    {
      "cell_type": "code",
      "source": [
        "if 'color' not in spam: spam['color'] ='black'\n",
        "\n",
        "spam.setdefault('color','black')\n",
        "\n",
        "print(spam)"
      ],
      "metadata": {
        "colab": {
          "base_uri": "https://localhost:8080/"
        },
        "id": "IauX_iQjkotV",
        "outputId": "bc43538a-6e39-488b-b6b2-4b753d1810e1"
      },
      "execution_count": 7,
      "outputs": [
        {
          "output_type": "stream",
          "name": "stdout",
          "text": [
            "{'bar': 100, 'color': 'black'}\n"
          ]
        }
      ]
    },
    {
      "cell_type": "markdown",
      "source": [
        "###8.How do you 'pretty print' dictionary values using which modules and function ?\n",
        "\n",
        "    we can pretty print a dictionary using three functions\n",
        "\n",
        "    * by using pprint() function of pprint module\n",
        "        Note: pprint() function doesnot prettify nested dictionaries\n",
        "    \n",
        "    * by using dumps() method of json module\n",
        "    \n",
        "    * by using dumps() method of yaml module"
      ],
      "metadata": {
        "id": "zVseNYWmOmmV"
      }
    },
    {
      "cell_type": "code",
      "source": [
        "comic = [\n",
        "  {'Name': 'Naruto', 'Age': '22', 'Details': {'Power':'Rasengan', 'Clan': 'Uzumaki'}},\n",
        "  {'Name': 'Sasuke', 'Age': '23', 'Details': {'Power':'Chidori', 'Clan': 'Uchiha'}},\n",
        "  {'Name': 'Shikamaru', 'Age': '21', 'Details': {'Power':'ShadowPossession', 'Clan': 'Nara'}},\n",
        "  {'Name': 'RockLee', 'Age': '22', 'Details': {'Power':'Taijutsu', 'Clan': 'Lee'}}\n",
        "]\n",
        "\n",
        "print('Printing using print() function \\n\\n',comic)\n",
        "print('-'*70)\n",
        "\n",
        "import pprint\n",
        "print('Printing using pprint() funciton \\n\\n')\n",
        "pprint.pprint(comic)\n",
        "print('-'*70)\n",
        "import json\n",
        "dump = json.dumps(comic, indent=4)\n",
        "print('Printing using dumps() method \\n\\n', dump)\n",
        "print('-'*70)\n",
        "import yaml\n",
        "dump = yaml.dump(comic)\n",
        "print('Printing using dump() method \\n\\n', dump)"
      ],
      "metadata": {
        "colab": {
          "base_uri": "https://localhost:8080/"
        },
        "id": "GbvhWNT3mW5D",
        "outputId": "cb2bcbec-6e59-48b6-e7e8-b7882c9df720"
      },
      "execution_count": 27,
      "outputs": [
        {
          "output_type": "stream",
          "name": "stdout",
          "text": [
            "Printing using print() function \n",
            "\n",
            " [{'Name': 'Naruto', 'Age': '22', 'Details': {'Power': 'Rasengan', 'Clan': 'Uzumaki'}}, {'Name': 'Sasuke', 'Age': '23', 'Details': {'Power': 'Chidori', 'Clan': 'Uchiha'}}, {'Name': 'Shikamaru', 'Age': '21', 'Details': {'Power': 'ShadowPossession', 'Clan': 'Nara'}}, {'Name': 'RockLee', 'Age': '22', 'Details': {'Power': 'Taijutsu', 'Clan': 'Lee'}}]\n",
            "----------------------------------------------------------------------\n",
            "Printing using pprint() funciton \n",
            "\n",
            "\n",
            "[{'Age': '22',\n",
            "  'Details': {'Clan': 'Uzumaki', 'Power': 'Rasengan'},\n",
            "  'Name': 'Naruto'},\n",
            " {'Age': '23',\n",
            "  'Details': {'Clan': 'Uchiha', 'Power': 'Chidori'},\n",
            "  'Name': 'Sasuke'},\n",
            " {'Age': '21',\n",
            "  'Details': {'Clan': 'Nara', 'Power': 'ShadowPossession'},\n",
            "  'Name': 'Shikamaru'},\n",
            " {'Age': '22',\n",
            "  'Details': {'Clan': 'Lee', 'Power': 'Taijutsu'},\n",
            "  'Name': 'RockLee'}]\n",
            "----------------------------------------------------------------------\n",
            "Printing using dumps() method \n",
            "\n",
            " [\n",
            "    {\n",
            "        \"Name\": \"Naruto\",\n",
            "        \"Age\": \"22\",\n",
            "        \"Details\": {\n",
            "            \"Power\": \"Rasengan\",\n",
            "            \"Clan\": \"Uzumaki\"\n",
            "        }\n",
            "    },\n",
            "    {\n",
            "        \"Name\": \"Sasuke\",\n",
            "        \"Age\": \"23\",\n",
            "        \"Details\": {\n",
            "            \"Power\": \"Chidori\",\n",
            "            \"Clan\": \"Uchiha\"\n",
            "        }\n",
            "    },\n",
            "    {\n",
            "        \"Name\": \"Shikamaru\",\n",
            "        \"Age\": \"21\",\n",
            "        \"Details\": {\n",
            "            \"Power\": \"ShadowPossession\",\n",
            "            \"Clan\": \"Nara\"\n",
            "        }\n",
            "    },\n",
            "    {\n",
            "        \"Name\": \"RockLee\",\n",
            "        \"Age\": \"22\",\n",
            "        \"Details\": {\n",
            "            \"Power\": \"Taijutsu\",\n",
            "            \"Clan\": \"Lee\"\n",
            "        }\n",
            "    }\n",
            "]\n",
            "----------------------------------------------------------------------\n",
            "Printing using dump() method \n",
            "\n",
            " - Age: '22'\n",
            "  Details:\n",
            "    Clan: Uzumaki\n",
            "    Power: Rasengan\n",
            "  Name: Naruto\n",
            "- Age: '23'\n",
            "  Details:\n",
            "    Clan: Uchiha\n",
            "    Power: Chidori\n",
            "  Name: Sasuke\n",
            "- Age: '21'\n",
            "  Details:\n",
            "    Clan: Nara\n",
            "    Power: ShadowPossession\n",
            "  Name: Shikamaru\n",
            "- Age: '22'\n",
            "  Details:\n",
            "    Clan: Lee\n",
            "    Power: Taijutsu\n",
            "  Name: RockLee\n",
            "\n"
          ]
        }
      ]
    }
  ]
}
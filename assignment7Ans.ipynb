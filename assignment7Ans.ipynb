{
  "nbformat": 4,
  "nbformat_minor": 0,
  "metadata": {
    "colab": {
      "provenance": [],
      "authorship_tag": "ABX9TyPAg6sNERnlxLp4RmB7Iodo",
      "include_colab_link": true
    },
    "kernelspec": {
      "name": "python3",
      "display_name": "Python 3"
    },
    "language_info": {
      "name": "python"
    }
  },
  "cells": [
    {
      "cell_type": "markdown",
      "metadata": {
        "id": "view-in-github",
        "colab_type": "text"
      },
      "source": [
        "<a href=\"https://colab.research.google.com/github/BALAJIKUMARAN-CS/myAssignment/blob/main/assignment7Ans.ipynb\" target=\"_parent\"><img src=\"https://colab.research.google.com/assets/colab-badge.svg\" alt=\"Open In Colab\"/></a>"
      ]
    },
    {
      "cell_type": "markdown",
      "source": [
        "#Assignment 7 Answers:\n",
        "\n",
        "**SUBMITTED BY BALAJIKUMARAN CS**"
      ],
      "metadata": {
        "id": "2TU5A2GXtQNE"
      }
    },
    {
      "cell_type": "markdown",
      "source": [
        "###1. Create two int type variables, apply addition, subtraction, division and multiplications and store the results in variables. Then print the data in the following format by calling the variables:\n",
        "\n",
        "    First variable is __ & second variable is __.\n",
        "    Addition: __ + __ = __\n",
        "    Subtraction: __ - __ = __\n",
        "    Multiplication: __ * __ = __\n",
        "    Division: __ / __ = __"
      ],
      "metadata": {
        "id": "w2mW3vAHtVpI"
      }
    },
    {
      "cell_type": "code",
      "source": [
        "num1=int(input(\"Enter first number : \"))\n",
        "num2=int(input(\"Enter second number : \"))\n",
        "print()\n",
        "\n",
        "addition = num1+num2\n",
        "\n",
        "subtraction = num1-num2\n",
        "\n",
        "multiplication = num1*num2\n",
        "\n",
        "division=num1/num2\n",
        "\n",
        "print(f\"First variable is {num1} & second variable is {num2}.\")\n",
        "print(f\"Addition : {num1} + {num2} = {addition}\")\n",
        "print(f\"Subtraction : {num1} - {num2} = {subtraction}\")\n",
        "print(f\"Multiplication : {num1} * {num2} = {multiplication}\")\n",
        "print(f\"Division : {num1} / {num2} = {division}\")"
      ],
      "metadata": {
        "id": "aBstZThEthMf",
        "colab": {
          "base_uri": "https://localhost:8080/"
        },
        "outputId": "557bc51f-61d9-41f7-b3b6-0c87d1ca28e6"
      },
      "execution_count": 7,
      "outputs": [
        {
          "output_type": "stream",
          "name": "stdout",
          "text": [
            "Enter first number : 10\n",
            "Enter second number : 5\n",
            "\n",
            "First variable is 10 & second variable is 5.\n",
            "Addition : 10 + 5 = 15\n",
            "Subtraction : 10 - 5 = 5\n",
            "Multiplication : 10 * 5 = 50\n",
            "Division : 10 / 5 = 2.0\n"
          ]
        }
      ]
    },
    {
      "cell_type": "markdown",
      "source": [
        "###2. What is the difference between the following operators:\n",
        "###(i) '/' and '//\"\n",
        "###(ii) '**' & '^'\n",
        "\n",
        "    Division Operator '/'\n",
        "    ---------------------\n",
        "\n",
        "    * The division operator '/' is used to divide the two values and returns the exact result of the division operation as a floating-point number\n",
        "\n",
        "\n",
        "\n",
        "\n"
      ],
      "metadata": {
        "id": "avnx3AHMvMlp"
      }
    },
    {
      "cell_type": "code",
      "source": [
        "#Eg: Division '/'\n",
        "\n",
        "10/4"
      ],
      "metadata": {
        "colab": {
          "base_uri": "https://localhost:8080/"
        },
        "id": "vBd-cWoowVyh",
        "outputId": "09a0e859-7ff0-4f5a-de5a-e99f91af2fbc"
      },
      "execution_count": 5,
      "outputs": [
        {
          "output_type": "execute_result",
          "data": {
            "text/plain": [
              "2.5"
            ]
          },
          "metadata": {},
          "execution_count": 5
        }
      ]
    },
    {
      "cell_type": "markdown",
      "source": [
        "    Floor Division Operator '//'\n",
        "    ---------------------------\n",
        "\n",
        "    * The Floor division operator '//' is used to divide the two operator and returns the quotient rounded down to the nearest integer."
      ],
      "metadata": {
        "id": "ZEYcl6fjzigh"
      }
    },
    {
      "cell_type": "code",
      "source": [
        "#Eg: Floor Division '//'\n",
        "\n",
        "11.9//4"
      ],
      "metadata": {
        "colab": {
          "base_uri": "https://localhost:8080/"
        },
        "id": "_gcfNR-7wc-c",
        "outputId": "92e4db89-3e7d-4203-8711-226ba35b1bca"
      },
      "execution_count": 8,
      "outputs": [
        {
          "output_type": "execute_result",
          "data": {
            "text/plain": [
              "2.0"
            ]
          },
          "metadata": {},
          "execution_count": 8
        }
      ]
    },
    {
      "cell_type": "markdown",
      "source": [
        "    Exponentiation operator '**'\n",
        "    ----------------------------\n",
        "\n",
        "    * The Exponentiation operator '**' helps to calculate the exponential value of the given base and exponent values.\n",
        "\n",
        "\n",
        "    Syntax:\n",
        "    -------\n",
        "    base ** exponent\n",
        "\n",
        "\n",
        "\n",
        "    "
      ],
      "metadata": {
        "id": "nw_6E63xw6jd"
      }
    },
    {
      "cell_type": "code",
      "source": [
        "#Example of **:\n",
        "\n",
        "2**3"
      ],
      "metadata": {
        "colab": {
          "base_uri": "https://localhost:8080/"
        },
        "id": "McQd_fEIxNhy",
        "outputId": "c50d027c-2f60-4007-d5c4-19019c04aba3"
      },
      "execution_count": 12,
      "outputs": [
        {
          "output_type": "execute_result",
          "data": {
            "text/plain": [
              "8"
            ]
          },
          "metadata": {},
          "execution_count": 12
        }
      ]
    },
    {
      "cell_type": "markdown",
      "source": [
        "    The Bitwise Xor Operator '^'\n",
        "    ----------------------------\n",
        "\n",
        "    * The Bitwise Xor Operator '^' help to perform XOR calculation between 2 number\n",
        "\n",
        "    Eg:\n",
        "\n",
        "    Bitwise operator can be performed with binary values\n",
        "    If any value is 1, Then the result also 1.\n",
        "    But both values are 1 or 0 . The result also 0\n",
        "\n",
        "    a=4\n",
        "    b=5\n",
        "\n",
        "    Bitwise operator can be performed with binary values\n",
        "\n",
        "    Binary of 4 is 0100\n",
        "    Binary of 5 is 0101\n",
        "\n",
        "    The calculation goes below\n",
        "\n",
        "    0100\n",
        "    0101\n",
        "    ------\n",
        "    0001\n",
        "\n",
        "    Change the result to numeric value\n",
        "\n",
        "    The integer/numeric value of 0001 is 1"
      ],
      "metadata": {
        "id": "uFTfgbi8z-jl"
      }
    },
    {
      "cell_type": "code",
      "source": [
        "#Example of ^:\n",
        "a=4\n",
        "b=5\n",
        "print(a^b)"
      ],
      "metadata": {
        "colab": {
          "base_uri": "https://localhost:8080/"
        },
        "id": "HpCQ3cff0IdL",
        "outputId": "80c4d094-3e54-447f-e5be-776f3a3cb588"
      },
      "execution_count": 14,
      "outputs": [
        {
          "output_type": "stream",
          "name": "stdout",
          "text": [
            "1\n"
          ]
        }
      ]
    },
    {
      "cell_type": "markdown",
      "source": [
        "###3. List the logical operators.\n",
        "\n",
        "    There are Three types of logical operator. It results in True or False\n",
        "\n",
        "    1 . and --> Returns True if both statements are true\n",
        "    2 . or  --> Returns True if one of the statements is true\n",
        "    3 . not --> Reverse the result, returns False if the result is true"
      ],
      "metadata": {
        "id": "IU6uayOpvUE8"
      }
    },
    {
      "cell_type": "markdown",
      "source": [
        "###4. Explain right shift operator and left shift operator with examples.\n",
        "\n",
        "    Left Shift\n",
        "    ----------\n",
        "\n",
        "    * It is a binary operator that takes two numbers, left shifts the bits of the first operand, and the second operand decides the number of places to shift.\n",
        "\n",
        "    * In other words, left-shifting an integer “a” with an integer “b” denoted as ‘(a<<b)’ is equivalent to multiplying a with 2^b (2 raised to power b).\n"
      ],
      "metadata": {
        "id": "7ouswpkWvbMm"
      }
    },
    {
      "cell_type": "code",
      "source": [
        "## Bitwise Left SHift\n",
        "\n",
        "\"\"\"\n",
        "Bitwise operator can be performed with binary values\n",
        "\n",
        "binary of 10 is 1010\n",
        "\n",
        "Steps :\n",
        "\n",
        "x<<n\n",
        "\n",
        "Here x is value and n is no of shift\n",
        "\n",
        "10<<4\n",
        "\n",
        "1. Make this to 8 bit\n",
        "\n",
        "  0 0 0 0 1 0 1 0\n",
        "\n",
        "2. Cancel the bit (cancel first 4 bit)\n",
        "\n",
        "  x x x x 1 0 1 0\n",
        "\n",
        "3. Add the bit (add 4 bit in last)\n",
        "\n",
        "  1   0   1   0   0   0   0   0\n",
        "  |   |   |   |   |   |   |   |\n",
        "  128 64  32 16   8   4   2   1\n",
        "\n",
        "4. Add the values\n",
        "\n",
        "128+32\n",
        "\n",
        "\"\"\"\n",
        "a=10\n",
        "b=4\n",
        "print(a<<b)"
      ],
      "metadata": {
        "colab": {
          "base_uri": "https://localhost:8080/"
        },
        "id": "fA30SCDw2xDE",
        "outputId": "1e634457-57db-4217-df25-7e65964425ea"
      },
      "execution_count": 15,
      "outputs": [
        {
          "output_type": "stream",
          "name": "stdout",
          "text": [
            "160\n"
          ]
        }
      ]
    },
    {
      "cell_type": "markdown",
      "source": [
        "Right Shift\n",
        "----------\n",
        "\n",
        "    * It is a binary operator that takes two numbers, right shifts the bits of the first operand, and the second operand decides the number of places to shift.\n",
        "\n",
        "    * In other words, right-shifting an integer “a” with an integer “b” denoted as ‘(a>>b)‘ is equivalent to dividing a with 2^b."
      ],
      "metadata": {
        "id": "IEPzg0RT2-i8"
      }
    },
    {
      "cell_type": "code",
      "source": [
        "## Bitwise right Shift -->\n",
        "\n",
        "\"\"\"\n",
        "Bitwise operator can be performed with binary values\n",
        "\n",
        "binary of 10 is 1010\n",
        "\n",
        "Steps :\n",
        "\n",
        "x>>n\n",
        "\n",
        "Here x is value and n is no of shift\n",
        "\n",
        "10>>3\n",
        "\n",
        "1. Make this to 8 bit\n",
        "\n",
        "  0 0 0 0 1 0 1 0\n",
        "\n",
        "2. Cancel the bit (cancel last 3 bit)\n",
        "\n",
        "  0 0 0 0 1 x x x\n",
        "\n",
        "3. Add the bit (add 3 bit in first)\n",
        "\n",
        "  0   0   0   0   0   0   0   1\n",
        "  |   |   |   |   |   |   |   |\n",
        "  128 64  32 16   8   4   2   1\n",
        "\n",
        "4. Add the values\n",
        "\n",
        "1\n",
        "\n",
        "\"\"\"\n",
        "a=10\n",
        "b=3\n",
        "print(a>>b)"
      ],
      "metadata": {
        "colab": {
          "base_uri": "https://localhost:8080/"
        },
        "id": "a70TNNoP3Dkt",
        "outputId": "2d974247-0ac0-43c4-c13a-510a7eb78e58"
      },
      "execution_count": 16,
      "outputs": [
        {
          "output_type": "stream",
          "name": "stdout",
          "text": [
            "1\n"
          ]
        }
      ]
    },
    {
      "cell_type": "markdown",
      "source": [
        "###5. Create a list containing int type data of length 15. Then write a code to check if 10 is present in the list or not.\n",
        "\n",
        "\n"
      ],
      "metadata": {
        "id": "G8D36d6ZvcuY"
      }
    },
    {
      "cell_type": "code",
      "source": [
        "listSample = [1,2,3,4,5,6,7,8,9,10,11,12,13,14,15]\n",
        "\n",
        "print(f\"The length of list --> {len(listSample)}\")\n",
        "\n",
        "if 10 in listSample:\n",
        "\n",
        "  print(\"The integer 10 is present in the list\")\n",
        "\n",
        "else:\n",
        "\n",
        "   print(\"The integer 10 is not present in the list\")"
      ],
      "metadata": {
        "colab": {
          "base_uri": "https://localhost:8080/"
        },
        "id": "gsQkkpj7RbTB",
        "outputId": "5c830345-17bb-4242-e52a-55a2a08f8c1c"
      },
      "execution_count": 5,
      "outputs": [
        {
          "output_type": "stream",
          "name": "stdout",
          "text": [
            "The length of list --> 15\n",
            "The integer 10 is present in the list\n"
          ]
        }
      ]
    }
  ]
}
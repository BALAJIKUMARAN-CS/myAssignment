{
  "nbformat": 4,
  "nbformat_minor": 0,
  "metadata": {
    "colab": {
      "provenance": [],
      "authorship_tag": "ABX9TyPGJTmThhIxKRxbM/b8zefD",
      "include_colab_link": true
    },
    "kernelspec": {
      "name": "python3",
      "display_name": "Python 3"
    },
    "language_info": {
      "name": "python"
    }
  },
  "cells": [
    {
      "cell_type": "markdown",
      "metadata": {
        "id": "view-in-github",
        "colab_type": "text"
      },
      "source": [
        "<a href=\"https://colab.research.google.com/github/BALAJIKUMARAN-CS/myAssignment/blob/main/assignment6Ans.ipynb\" target=\"_parent\"><img src=\"https://colab.research.google.com/assets/colab-badge.svg\" alt=\"Open In Colab\"/></a>"
      ]
    },
    {
      "cell_type": "markdown",
      "source": [
        "#Assignment 6 Answers:\n",
        "\n",
        "**SUBMITTED BY BALAJIKUMARAN CS**"
      ],
      "metadata": {
        "id": "H4jBf012wIps"
      }
    },
    {
      "cell_type": "markdown",
      "source": [
        "###1. What are keywords in python? Using the keyword library, print all the python keywords.\n",
        "\n",
        "    * Keywords in Python are reserved words that can not be used as a variable name, function name, or any other identifier.\n",
        "\n",
        "    * We can print all the keywords by using \"kwlist()\""
      ],
      "metadata": {
        "id": "sBo1UOeFwKzU"
      }
    },
    {
      "cell_type": "code",
      "execution_count": null,
      "metadata": {
        "colab": {
          "base_uri": "https://localhost:8080/"
        },
        "id": "2xPcRdv5wGKb",
        "outputId": "17a3d54f-1386-4bb0-de1b-a5535b8197d1"
      },
      "outputs": [
        {
          "output_type": "stream",
          "name": "stdout",
          "text": [
            "The list of keywords is : \n",
            "['False', 'None', 'True', 'and', 'as', 'assert', 'async', 'await', 'break', 'class', 'continue', 'def', 'del', 'elif', 'else', 'except', 'finally', 'for', 'from', 'global', 'if', 'import', 'in', 'is', 'lambda', 'nonlocal', 'not', 'or', 'pass', 'raise', 'return', 'try', 'while', 'with', 'yield']\n"
          ]
        }
      ],
      "source": [
        "import keyword\n",
        "\n",
        "print(\"The list of keywords is : \")\n",
        "\n",
        "print(keyword.kwlist)"
      ]
    },
    {
      "cell_type": "markdown",
      "source": [
        "###2. What are the rules to create variables in python?\n",
        "    Rules for Python variables:\n",
        "\n",
        "      * A variable name must start with a letter or the underscore character\n",
        "      \n",
        "      * A variable name cannot start with a number\n",
        "      \n",
        "      * A variable name can only contain alpha-numeric characters and underscores (A-z, 0-9, and _ )\n",
        "      \n",
        "      * Variable names are case-sensitive (age, Age and AGE are three different variables)"
      ],
      "metadata": {
        "id": "xB2VlchoxUeL"
      }
    },
    {
      "cell_type": "code",
      "source": [
        "#Example for legal variable names:\n",
        "\n",
        "comicname = \"naruto\"\n",
        "\n",
        "comic_name = \"naruto\"\n",
        "\n",
        "_comic_name = \"naruto\"\n",
        "\n",
        "COMICNAME = \"naruto\"\n",
        "\n",
        "ComicName2 = \"naruto\""
      ],
      "metadata": {
        "id": "RmVayrnKxokl"
      },
      "execution_count": null,
      "outputs": []
    },
    {
      "cell_type": "markdown",
      "source": [
        "###3. What are the standards and conventions followed for the nomenclature of variables in python to improve code readability and maintainability?\n",
        "\n",
        "\n",
        "    In Python, there are several standards and conventions for naming variables that aim to improve code readability and maintainability.\n",
        "\n",
        "    \n",
        "    1. Use descriptive names:\n",
        "    -------------------------\n",
        "    \n",
        "    * Variable names should be meaningful and describe the purpose or content of the variable.\n",
        "    \n",
        "    * This helps to understand the code's intent and makes it easier for others (including your future self) to read and maintain the code.\n",
        "\n",
        "    Naming conventions for local variables, global variables, constants and functions:\n",
        "    --------------------------------------------------------------------------------------\n",
        "\n",
        "    * Meaningful and understandable variables name helps anyone to understand the reason of using it.\n",
        "\n",
        "    * Local variables should be named using camel case lettering starting with small letter (e.g. localData)\n",
        "    \n",
        "    * whereas Global variables names should start with a capital letter (e.g. GlobalData).\n",
        "    \n",
        "    * Constant names should be formed using capital letters only (e.g. CONSDATA).\n",
        "\n",
        "    * It is better to avoid the use of digits in variable names.\n",
        "\n",
        "    * The names of the function should be written in camel case starting with small letters.\n",
        "    \n",
        "    * The name of the function must describe the reason of using the function clearly and briefly.\n",
        "\n",
        "    Indentation:\n",
        "    ------------\n",
        "    * Proper indentation is very important to increase the readability of the code.\n",
        "    \n",
        "    * For making the code readable, programmers should use White spaces properly.\n",
        "    \n",
        "    * Each nested block should be properly indented and spaced.\n",
        "\n",
        "    * Proper Indentation should be there at the beginning and at the end of each block in the program.\n",
        "\n",
        "    * All braces should start from a new line and the code following the end of braces also start from a new line.\n",
        "\n",
        "    Avoid using reserved words:\n",
        "    ---------------------------\n",
        "    * Do not use Python's reserved words (keywords) as variable names, such as if, for, while, def, etc.\n",
        "\n",
        "    Code should be well documented:\n",
        "    -------------------------------\n",
        "    * The code should be properly commented for understanding easily.\n",
        "    \n",
        "    * Comments regarding the statements increase the understandability of the code."
      ],
      "metadata": {
        "id": "4s-1AOQQyk2K"
      }
    },
    {
      "cell_type": "markdown",
      "source": [
        "###4. What will happen if a keyword is used as a variable name?\n",
        "\n",
        "    * We cannot use a keyword as a variable name, function name, or any other identifier.\n",
        "    \n",
        "    * They are used to define the syntax and structure of the Python language.\n",
        "\n",
        "    * If we use a keyword as a variable name it will throw syntax error.\n"
      ],
      "metadata": {
        "id": "eV5CSS-A1JRo"
      }
    },
    {
      "cell_type": "code",
      "source": [
        "#Example:\n",
        "\n",
        "and = 1\n"
      ],
      "metadata": {
        "colab": {
          "base_uri": "https://localhost:8080/",
          "height": 130
        },
        "id": "6REgCVct1Wtl",
        "outputId": "72447c40-d43d-4cb9-f44e-c5b847b1439a"
      },
      "execution_count": null,
      "outputs": [
        {
          "output_type": "error",
          "ename": "SyntaxError",
          "evalue": "ignored",
          "traceback": [
            "\u001b[0;36m  File \u001b[0;32m\"<ipython-input-3-4621e51ac099>\"\u001b[0;36m, line \u001b[0;32m3\u001b[0m\n\u001b[0;31m    and = 1\u001b[0m\n\u001b[0m    ^\u001b[0m\n\u001b[0;31mSyntaxError\u001b[0m\u001b[0;31m:\u001b[0m invalid syntax\n"
          ]
        }
      ]
    },
    {
      "cell_type": "markdown",
      "source": [
        "###5. For what purpose def keyword is used?\n",
        "\n",
        "    The def keyword is used to create or define a function.\n",
        "\n",
        "    "
      ],
      "metadata": {
        "id": "-PGyGQmN2o3X"
      }
    },
    {
      "cell_type": "code",
      "source": [
        "#Example:\n",
        "\n",
        "def sampleFunction():\n",
        "  a=10\n",
        "  print(a)\n",
        "\n",
        "sampleFunction()"
      ],
      "metadata": {
        "colab": {
          "base_uri": "https://localhost:8080/"
        },
        "id": "bdItjrCx205W",
        "outputId": "01277efb-93ca-491a-877f-b294d338cb67"
      },
      "execution_count": null,
      "outputs": [
        {
          "output_type": "stream",
          "name": "stdout",
          "text": [
            "10\n"
          ]
        }
      ]
    },
    {
      "cell_type": "markdown",
      "source": [
        "###6. What is the operation of this special character '\\'?\n",
        "\n",
        "    * In Python strings, the backslash \"\\\" is a special character, also called the \"escape\" character.\n",
        "\n",
        "    * Escape sequences allow you to include special characters in strings.\n",
        "\n",
        "    * Check the below two examples for more info"
      ],
      "metadata": {
        "id": "om24j-rf5HOl"
      }
    },
    {
      "cell_type": "code",
      "source": [
        "# The below code throws an error because we have three (') in it. So the interpreter is getting confused where to end the statement\n",
        "\n",
        "print('Hey, what's up?')                   ^"
      ],
      "metadata": {
        "id": "7-VIfUSy3yP3",
        "outputId": "6b049251-794f-4ef8-8e5d-cc7bce8e71a8",
        "colab": {
          "base_uri": "https://localhost:8080/",
          "height": 130
        }
      },
      "execution_count": null,
      "outputs": [
        {
          "output_type": "error",
          "ename": "SyntaxError",
          "evalue": "ignored",
          "traceback": [
            "\u001b[0;36m  File \u001b[0;32m\"<ipython-input-10-5a8b01467751>\"\u001b[0;36m, line \u001b[0;32m2\u001b[0m\n\u001b[0;31m    print('Hey, what's up?')                   ^\u001b[0m\n\u001b[0m                          ^\u001b[0m\n\u001b[0;31mSyntaxError\u001b[0m\u001b[0;31m:\u001b[0m unterminated string literal (detected at line 2)\n"
          ]
        }
      ]
    },
    {
      "cell_type": "code",
      "source": [
        "# The below code does not throws an error. Because in \"what'\\s\", it escape the single quote:\n",
        "\n",
        "print('Hey, what\\'s up?')\n"
      ],
      "metadata": {
        "colab": {
          "base_uri": "https://localhost:8080/"
        },
        "id": "2dyV0qo457BT",
        "outputId": "2723d724-db35-428a-a001-7bb4ced991e5"
      },
      "execution_count": null,
      "outputs": [
        {
          "output_type": "stream",
          "name": "stdout",
          "text": [
            "Hey, what's up?\n"
          ]
        }
      ]
    },
    {
      "cell_type": "markdown",
      "source": [
        "###7. Give an example of the following conditions:\n",
        "###(i) Homogeneous list\n",
        "###(ii) Heterogeneous set\n",
        "###(iii) Homogeneous tuple\n",
        "\n",
        "    Homogeneous list:\n",
        "    -----------------\n",
        "    A homogeneous list is a list where all elements have the same data type. Here's an example of a homogeneous list of integers:\n",
        "\n",
        "    Eg: homogeneous_list = [1, 2, 3, 4, 5]\n",
        "\n",
        "\n",
        "    Heterogeneous set:\n",
        "    ------------------\n",
        "    A heterogeneous set is a set that can contain elements of different data types.\n",
        "\n",
        "    Eg: heterogeneous_set = {1, 'Hello', 3.14, True}\n",
        "    \n",
        "\n",
        "    Homogeneous tuple:\n",
        "    ------------------\n",
        "    A homogeneous tuple is a tuple where all elements have the same data type.\n",
        "\n",
        "    Eg: homogeneous_tuple = ('apple', 'banana', 'cherry', 'date')\n",
        "\n"
      ],
      "metadata": {
        "id": "t2YHNvKGrYQP"
      }
    },
    {
      "cell_type": "code",
      "source": [
        "homogeneous_list = [1, 2, 3, 4, 5]\n",
        "\n",
        "heterogeneous_set = {1, 'Hello', 3.14, True}\n",
        "\n",
        "homogeneous_tuple = ('apple', 'banana', 'cherry', 'date')\n",
        "\n",
        "print(f\"The Homogeneous list is : {homogeneous_list}\")\n",
        "\n",
        "print(f\"The Heterogeneous set is : {heterogeneous_set}\")\n",
        "\n",
        "print(f\"The Homogeneous tuple is : {homogeneous_tuple}\")\n"
      ],
      "metadata": {
        "colab": {
          "base_uri": "https://localhost:8080/"
        },
        "id": "yIR0aWpcO6Wy",
        "outputId": "238bf04e-aef5-45fb-8e73-6416160f4e8f"
      },
      "execution_count": 2,
      "outputs": [
        {
          "output_type": "stream",
          "name": "stdout",
          "text": [
            "The Homogeneous list is : [1, 2, 3, 4, 5]\n",
            "The Heterogeneous set is : {1, 3.14, 'Hello'}\n",
            "The Homogeneous tuple is : ('apple', 'banana', 'cherry', 'date')\n"
          ]
        }
      ]
    },
    {
      "cell_type": "markdown",
      "source": [
        "###8. Explain the mutable and immutable data types with proper explanation & examples.\n",
        "\n",
        "    Mutable:\n",
        "    -------\n",
        "    * A Mutable objects are those that allow you to change/modify its value once it is created.\n",
        "\n",
        "    * Eg: List is one of the example for mutable object\n",
        "\n",
        "    Immutable:\n",
        "    ----------\n",
        "    * Immutable object can’t be changed/modified after it is created.\n",
        "\n",
        "    * Eg: Tuple is one of the example for immutable object"
      ],
      "metadata": {
        "id": "_GGtYyLjpw7N"
      }
    },
    {
      "cell_type": "code",
      "source": [
        "#Eg: Mutable\n",
        "\n",
        "sampleList=[\"naruto\",\"hinata\"]\n",
        "\n",
        "print(f\"The old list is {sampleList}\\n\")\n",
        "\n",
        "sampleList[0]=\"sasuke\"\n",
        "\n",
        "print(f\"The new list is {sampleList}\")"
      ],
      "metadata": {
        "colab": {
          "base_uri": "https://localhost:8080/"
        },
        "id": "gCba-q30qyPd",
        "outputId": "e43d3379-f5ff-4c0a-c8b9-a44a98b971e8"
      },
      "execution_count": null,
      "outputs": [
        {
          "output_type": "stream",
          "name": "stdout",
          "text": [
            "The old list is ['naruto', 'hinata']\n",
            "\n",
            "The new list is ['sasuke', 'hinata']\n"
          ]
        }
      ]
    },
    {
      "cell_type": "code",
      "source": [
        "#Eg: Immutable\n",
        "\n",
        "sampleTuple=(\"naruto\",\"hinata\")\n",
        "\n",
        "print(f\"The old list is {sampleTuple}\\n\")\n",
        "\n",
        "sampleTuple[0]=\"sasuke\"\n",
        "\n",
        "print(f\"The new list is {sampleTuple}\")"
      ],
      "metadata": {
        "colab": {
          "base_uri": "https://localhost:8080/",
          "height": 269
        },
        "id": "2KWyb5RxrI6U",
        "outputId": "384892ab-9b57-4ebc-8f8c-b706ee30cc75"
      },
      "execution_count": null,
      "outputs": [
        {
          "output_type": "stream",
          "name": "stdout",
          "text": [
            "The old list is ('naruto', 'hinata')\n",
            "\n"
          ]
        },
        {
          "output_type": "error",
          "ename": "TypeError",
          "evalue": "ignored",
          "traceback": [
            "\u001b[0;31m---------------------------------------------------------------------------\u001b[0m",
            "\u001b[0;31mTypeError\u001b[0m                                 Traceback (most recent call last)",
            "\u001b[0;32m<ipython-input-16-296c87167ded>\u001b[0m in \u001b[0;36m<cell line: 7>\u001b[0;34m()\u001b[0m\n\u001b[1;32m      5\u001b[0m \u001b[0mprint\u001b[0m\u001b[0;34m(\u001b[0m\u001b[0;34mf\"The old list is {sampleTuple}\\n\"\u001b[0m\u001b[0;34m)\u001b[0m\u001b[0;34m\u001b[0m\u001b[0;34m\u001b[0m\u001b[0m\n\u001b[1;32m      6\u001b[0m \u001b[0;34m\u001b[0m\u001b[0m\n\u001b[0;32m----> 7\u001b[0;31m \u001b[0msampleTuple\u001b[0m\u001b[0;34m[\u001b[0m\u001b[0;36m0\u001b[0m\u001b[0;34m]\u001b[0m\u001b[0;34m=\u001b[0m\u001b[0;34m\"sasuke\"\u001b[0m\u001b[0;34m\u001b[0m\u001b[0;34m\u001b[0m\u001b[0m\n\u001b[0m\u001b[1;32m      8\u001b[0m \u001b[0;34m\u001b[0m\u001b[0m\n\u001b[1;32m      9\u001b[0m \u001b[0mprint\u001b[0m\u001b[0;34m(\u001b[0m\u001b[0;34mf\"The new list is {sampleTuple}\"\u001b[0m\u001b[0;34m)\u001b[0m\u001b[0;34m\u001b[0m\u001b[0;34m\u001b[0m\u001b[0m\n",
            "\u001b[0;31mTypeError\u001b[0m: 'tuple' object does not support item assignment"
          ]
        }
      ]
    },
    {
      "cell_type": "markdown",
      "source": [
        "###9. Write a code to create the given structure using only for loop.\n",
        "        \n",
        "            *\n",
        "           ***\n",
        "          *****\n",
        "         *******\n",
        "        *********"
      ],
      "metadata": {
        "id": "-kpLkVpbnamF"
      }
    },
    {
      "cell_type": "code",
      "source": [
        "userInput = int(input(\"Enter number of rows: \"))\n",
        "\n",
        "k = 0\n",
        "\n",
        "for i in range(1, userInput+1):\n",
        "\n",
        "    for j in range(1, (userInput-i)+1):\n",
        "        print(end=\"  \")\n",
        "\n",
        "    while k!=(2*i-1):\n",
        "        print(\"* \", end=\"\")\n",
        "        k += 1\n",
        "\n",
        "    k = 0\n",
        "    print()"
      ],
      "metadata": {
        "colab": {
          "base_uri": "https://localhost:8080/"
        },
        "id": "IZYgTZE88Fzj",
        "outputId": "5c14ca33-9270-464d-967e-343e8e3bf890"
      },
      "execution_count": null,
      "outputs": [
        {
          "output_type": "stream",
          "name": "stdout",
          "text": [
            "Enter number of rows: 5\n",
            "        * \n",
            "      * * * \n",
            "    * * * * * \n",
            "  * * * * * * * \n",
            "* * * * * * * * * \n"
          ]
        }
      ]
    },
    {
      "cell_type": "markdown",
      "source": [
        "###10. Write a code to create the given structure using while loop.\n",
        "      |||||||||\n",
        "       |||||||\n",
        "        |||||\n",
        "         |||\n",
        "          |"
      ],
      "metadata": {
        "id": "N18JEzjTpHQl"
      }
    },
    {
      "cell_type": "code",
      "source": [
        "userInput = int(input(\"Enter number of rows: \"))\n",
        "\n",
        "for i in range(userInput+1, 1, -1):\n",
        "    for space in range(0, userInput+1-i):\n",
        "        print(\"  \", end=\"\")\n",
        "    for j in range(i, 2*i-1):\n",
        "        print(\"| \", end=\"\")\n",
        "    for j in range(1, i-1):\n",
        "        print(\"| \", end=\"\")\n",
        "    print()"
      ],
      "metadata": {
        "id": "WaM95CDdn3V_",
        "colab": {
          "base_uri": "https://localhost:8080/"
        },
        "outputId": "892ec96f-6329-4a6a-89f9-46d2e284967e"
      },
      "execution_count": null,
      "outputs": [
        {
          "output_type": "stream",
          "name": "stdout",
          "text": [
            "Enter number of rows: 5\n",
            "| | | | | | | | | \n",
            "  | | | | | | | \n",
            "    | | | | | \n",
            "      | | | \n",
            "        | \n"
          ]
        }
      ]
    }
  ]
}